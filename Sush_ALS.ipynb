{
 "cells": [
  {
   "cell_type": "code",
   "execution_count": 1,
   "metadata": {},
   "outputs": [
    {
     "name": "stdout",
     "output_type": "stream",
     "text": [
      "System version: 3.8.5 (default, Sep  3 2020, 21:29:08) [MSC v.1916 64 bit (AMD64)]\n",
      "Spark version: 3.2.1\n"
     ]
    }
   ],
   "source": [
    "import pandas as pd\n",
    "# set the environment path to find Recommenders\n",
    "import sys\n",
    "import pyspark\n",
    "from pyspark.ml.recommendation import ALS\n",
    "import pyspark.sql.functions as F\n",
    "from pyspark.sql import SparkSession\n",
    "from pyspark.sql.types import StructType, StructField\n",
    "from pyspark.sql.types import StringType, FloatType, IntegerType, LongType\n",
    "from recommenders.utils.timer import Timer\n",
    "from recommenders.datasets import movielens\n",
    "from recommenders.utils.notebook_utils import is_jupyter\n",
    "from recommenders.datasets.spark_splitters import spark_random_split\n",
    "from recommenders.evaluation.spark_evaluation import SparkRatingEvaluation, SparkRankingEvaluation\n",
    "from recommenders.utils.spark_utils import start_or_get_spark\n",
    "\n",
    "print(\"System version: {}\".format(sys.version))\n",
    "print(\"Spark version: {}\".format(pyspark.__version__))"
   ]
  },
  {
   "cell_type": "code",
   "execution_count": 2,
   "metadata": {},
   "outputs": [],
   "source": [
    "import findspark\n",
    "\n",
    "findspark.init()"
   ]
  },
  {
   "cell_type": "code",
   "execution_count": 3,
   "metadata": {},
   "outputs": [],
   "source": [
    "import pyspark\n",
    "from pyspark.sql import SparkSession\n",
    "spark = SparkSession.builder.getOrCreate()"
   ]
  },
  {
   "cell_type": "code",
   "execution_count": 4,
   "metadata": {},
   "outputs": [],
   "source": [
    "COL_USER = \"UserId\"\n",
    "COL_ITEM = \"ProductId\"\n",
    "COL_RATING = \"Rating\"\n",
    "schema = StructType(\n",
    "    (\n",
    "        StructField(COL_USER, IntegerType()),\n",
    "        StructField(COL_ITEM, IntegerType()),\n",
    "        StructField(COL_RATING, FloatType()),\n",
    "    )\n",
    ")\n"
   ]
  },
  {
   "cell_type": "code",
   "execution_count": 32,
   "metadata": {},
   "outputs": [],
   "source": [
    "# Well I'm not sure if this is the best way, but there are so few above 5 I think I can group them all together\n",
    "rec_data = pd.read_csv('rec_df.csv')\n",
    "rec_data['rating'] = rec_data['count'].apply(lambda x: 5 if (x >= 5) else x)\n",
    "new_rec_data = rec_data.drop(columns='count')\n",
    "new_rec_data =  new_rec_data.drop(columns='Unnamed: 0')"
   ]
  },
  {
   "cell_type": "code",
   "execution_count": 6,
   "metadata": {},
   "outputs": [],
   "source": [
    "new_rec_data.to_csv('rec_df_new.csv')"
   ]
  },
  {
   "cell_type": "code",
   "execution_count": 40,
   "metadata": {},
   "outputs": [],
   "source": [
    "rec_data = pd.read_csv('rec_df_new.csv')"
   ]
  },
  {
   "cell_type": "code",
   "execution_count": 41,
   "metadata": {},
   "outputs": [
    {
     "data": {
      "text/html": [
       "<div>\n",
       "<style scoped>\n",
       "    .dataframe tbody tr th:only-of-type {\n",
       "        vertical-align: middle;\n",
       "    }\n",
       "\n",
       "    .dataframe tbody tr th {\n",
       "        vertical-align: top;\n",
       "    }\n",
       "\n",
       "    .dataframe thead th {\n",
       "        text-align: right;\n",
       "    }\n",
       "</style>\n",
       "<table border=\"1\" class=\"dataframe\">\n",
       "  <thead>\n",
       "    <tr style=\"text-align: right;\">\n",
       "      <th></th>\n",
       "      <th>user_id</th>\n",
       "      <th>product_id</th>\n",
       "      <th>rating</th>\n",
       "    </tr>\n",
       "  </thead>\n",
       "  <tbody>\n",
       "    <tr>\n",
       "      <th>0</th>\n",
       "      <td>1</td>\n",
       "      <td>196</td>\n",
       "      <td>5</td>\n",
       "    </tr>\n",
       "    <tr>\n",
       "      <th>1</th>\n",
       "      <td>1</td>\n",
       "      <td>12427</td>\n",
       "      <td>5</td>\n",
       "    </tr>\n",
       "    <tr>\n",
       "      <th>2</th>\n",
       "      <td>1</td>\n",
       "      <td>10258</td>\n",
       "      <td>5</td>\n",
       "    </tr>\n",
       "    <tr>\n",
       "      <th>3</th>\n",
       "      <td>1</td>\n",
       "      <td>25133</td>\n",
       "      <td>5</td>\n",
       "    </tr>\n",
       "    <tr>\n",
       "      <th>4</th>\n",
       "      <td>1</td>\n",
       "      <td>13032</td>\n",
       "      <td>4</td>\n",
       "    </tr>\n",
       "  </tbody>\n",
       "</table>\n",
       "</div>"
      ],
      "text/plain": [
       "   user_id  product_id  rating\n",
       "0        1         196       5\n",
       "1        1       12427       5\n",
       "2        1       10258       5\n",
       "3        1       25133       5\n",
       "4        1       13032       4"
      ]
     },
     "execution_count": 41,
     "metadata": {},
     "output_type": "execute_result"
    }
   ],
   "source": [
    "rec_data.head()"
   ]
  },
  {
   "cell_type": "code",
   "execution_count": 43,
   "metadata": {},
   "outputs": [],
   "source": [
    "rec_data = rec_data.reset_index(drop=True)"
   ]
  },
  {
   "cell_type": "code",
   "execution_count": 36,
   "metadata": {},
   "outputs": [],
   "source": [
    "new_rec_data = new_rec_data[['user_id', 'product_id', 'rating']]"
   ]
  },
  {
   "cell_type": "code",
   "execution_count": 44,
   "metadata": {},
   "outputs": [
    {
     "data": {
      "text/html": [
       "<div>\n",
       "<style scoped>\n",
       "    .dataframe tbody tr th:only-of-type {\n",
       "        vertical-align: middle;\n",
       "    }\n",
       "\n",
       "    .dataframe tbody tr th {\n",
       "        vertical-align: top;\n",
       "    }\n",
       "\n",
       "    .dataframe thead th {\n",
       "        text-align: right;\n",
       "    }\n",
       "</style>\n",
       "<table border=\"1\" class=\"dataframe\">\n",
       "  <thead>\n",
       "    <tr style=\"text-align: right;\">\n",
       "      <th></th>\n",
       "      <th>user_id</th>\n",
       "      <th>product_id</th>\n",
       "      <th>rating</th>\n",
       "    </tr>\n",
       "  </thead>\n",
       "  <tbody>\n",
       "    <tr>\n",
       "      <th>0</th>\n",
       "      <td>1</td>\n",
       "      <td>196</td>\n",
       "      <td>5</td>\n",
       "    </tr>\n",
       "    <tr>\n",
       "      <th>1</th>\n",
       "      <td>1</td>\n",
       "      <td>12427</td>\n",
       "      <td>5</td>\n",
       "    </tr>\n",
       "    <tr>\n",
       "      <th>2</th>\n",
       "      <td>1</td>\n",
       "      <td>10258</td>\n",
       "      <td>5</td>\n",
       "    </tr>\n",
       "    <tr>\n",
       "      <th>3</th>\n",
       "      <td>1</td>\n",
       "      <td>25133</td>\n",
       "      <td>5</td>\n",
       "    </tr>\n",
       "    <tr>\n",
       "      <th>4</th>\n",
       "      <td>1</td>\n",
       "      <td>13032</td>\n",
       "      <td>4</td>\n",
       "    </tr>\n",
       "    <tr>\n",
       "      <th>...</th>\n",
       "      <td>...</td>\n",
       "      <td>...</td>\n",
       "      <td>...</td>\n",
       "    </tr>\n",
       "    <tr>\n",
       "      <th>1048570</th>\n",
       "      <td>15759</td>\n",
       "      <td>22170</td>\n",
       "      <td>3</td>\n",
       "    </tr>\n",
       "    <tr>\n",
       "      <th>1048571</th>\n",
       "      <td>15759</td>\n",
       "      <td>45066</td>\n",
       "      <td>3</td>\n",
       "    </tr>\n",
       "    <tr>\n",
       "      <th>1048572</th>\n",
       "      <td>15759</td>\n",
       "      <td>28842</td>\n",
       "      <td>3</td>\n",
       "    </tr>\n",
       "    <tr>\n",
       "      <th>1048573</th>\n",
       "      <td>15759</td>\n",
       "      <td>24622</td>\n",
       "      <td>3</td>\n",
       "    </tr>\n",
       "    <tr>\n",
       "      <th>1048574</th>\n",
       "      <td>15759</td>\n",
       "      <td>41690</td>\n",
       "      <td>3</td>\n",
       "    </tr>\n",
       "  </tbody>\n",
       "</table>\n",
       "<p>1048575 rows × 3 columns</p>\n",
       "</div>"
      ],
      "text/plain": [
       "         user_id  product_id  rating\n",
       "0              1         196       5\n",
       "1              1       12427       5\n",
       "2              1       10258       5\n",
       "3              1       25133       5\n",
       "4              1       13032       4\n",
       "...          ...         ...     ...\n",
       "1048570    15759       22170       3\n",
       "1048571    15759       45066       3\n",
       "1048572    15759       28842       3\n",
       "1048573    15759       24622       3\n",
       "1048574    15759       41690       3\n",
       "\n",
       "[1048575 rows x 3 columns]"
      ]
     },
     "execution_count": 44,
     "metadata": {},
     "output_type": "execute_result"
    }
   ],
   "source": [
    "rec_data"
   ]
  },
  {
   "cell_type": "code",
   "execution_count": 5,
   "metadata": {},
   "outputs": [
    {
     "name": "stdout",
     "output_type": "stream",
     "text": [
      "root\n",
      " |-- UserId: integer (nullable = true)\n",
      " |-- ProductId: integer (nullable = true)\n",
      " |-- Rating: float (nullable = true)\n",
      "\n"
     ]
    }
   ],
   "source": [
    "df = spark.read.option(\"header\",True).csv(\"rec_df_new.csv\", schema=schema)\n",
    "df.printSchema()"
   ]
  },
  {
   "cell_type": "code",
   "execution_count": 6,
   "metadata": {},
   "outputs": [
    {
     "name": "stdout",
     "output_type": "stream",
     "text": [
      "+------+---------+------+\n",
      "|UserId|ProductId|Rating|\n",
      "+------+---------+------+\n",
      "|     1|      196|   5.0|\n",
      "|     1|    12427|   5.0|\n",
      "|     1|    10258|   5.0|\n",
      "|     1|    25133|   5.0|\n",
      "|     1|    13032|   4.0|\n",
      "|     1|    46149|   4.0|\n",
      "|     1|    26405|   3.0|\n",
      "|     1|    26088|   3.0|\n",
      "|     1|    49235|   3.0|\n",
      "|     1|    13176|   2.0|\n",
      "|     1|    38928|   2.0|\n",
      "|     1|    39657|   2.0|\n",
      "|     1|    14084|   1.0|\n",
      "|     1|    30450|   1.0|\n",
      "|     1|    41787|   1.0|\n",
      "|     1|    17122|   1.0|\n",
      "|     1|    10326|   1.0|\n",
      "|     1|    35951|   1.0|\n",
      "|     1|    27845|   1.0|\n",
      "|     2|    32792|   5.0|\n",
      "+------+---------+------+\n",
      "only showing top 20 rows\n",
      "\n"
     ]
    }
   ],
   "source": [
    "df.show()"
   ]
  },
  {
   "cell_type": "code",
   "execution_count": 7,
   "metadata": {},
   "outputs": [
    {
     "name": "stdout",
     "output_type": "stream",
     "text": [
      "N train 786908\n",
      "N test 261667\n"
     ]
    }
   ],
   "source": [
    "train, test = spark_random_split(df, ratio=0.75, seed=234)\n",
    "print (\"N train\", train.cache().count())\n",
    "print (\"N test\", test.cache().count())"
   ]
  },
  {
   "cell_type": "code",
   "execution_count": 8,
   "metadata": {},
   "outputs": [
    {
     "name": "stdout",
     "output_type": "stream",
     "text": [
      "root\n",
      " |-- UserId: integer (nullable = true)\n",
      " |-- ProductId: integer (nullable = true)\n",
      " |-- Rating: float (nullable = true)\n",
      "\n"
     ]
    }
   ],
   "source": [
    "train.printSchema()"
   ]
  },
  {
   "cell_type": "code",
   "execution_count": 9,
   "metadata": {},
   "outputs": [
    {
     "data": {
      "text/plain": [
       "Column<'UserId'>"
      ]
     },
     "execution_count": 9,
     "metadata": {},
     "output_type": "execute_result"
    }
   ],
   "source": [
    "train[0]"
   ]
  },
  {
   "cell_type": "code",
   "execution_count": 10,
   "metadata": {},
   "outputs": [
    {
     "name": "stdout",
     "output_type": "stream",
     "text": [
      "+------+---------+------+\n",
      "|UserId|ProductId|Rating|\n",
      "+------+---------+------+\n",
      "|     1|      196|   5.0|\n",
      "|     1|    10258|   5.0|\n",
      "|     1|    10326|   1.0|\n",
      "|     1|    13032|   4.0|\n",
      "|     1|    14084|   1.0|\n",
      "|     1|    17122|   1.0|\n",
      "|     1|    25133|   5.0|\n",
      "|     1|    26405|   3.0|\n",
      "|     1|    27845|   1.0|\n",
      "|     1|    30450|   1.0|\n",
      "|     1|    35951|   1.0|\n",
      "|     1|    39657|   2.0|\n",
      "|     1|    41787|   1.0|\n",
      "|     1|    46149|   4.0|\n",
      "|     1|    49235|   3.0|\n",
      "|     2|     1559|   5.0|\n",
      "|     2|     1757|   1.0|\n",
      "|     2|     2002|   4.0|\n",
      "|     2|     2361|   1.0|\n",
      "|     2|     2573|   2.0|\n",
      "+------+---------+------+\n",
      "only showing top 20 rows\n",
      "\n"
     ]
    }
   ],
   "source": [
    "train.show()"
   ]
  },
  {
   "cell_type": "code",
   "execution_count": 15,
   "metadata": {},
   "outputs": [],
   "source": [
    "regparam = [0.001,0.01,0.1,1,10]\n",
    "w_item =  [2.0,4.0,6.0,8.0,10.0]"
   ]
  },
  {
   "cell_type": "code",
   "execution_count": 16,
   "metadata": {},
   "outputs": [],
   "source": [
    "header = {\n",
    "    \"userCol\": COL_USER,\n",
    "    \"itemCol\": COL_ITEM,\n",
    "    \"ratingCol\": COL_RATING,\n",
    "}\n"
   ]
  },
  {
   "cell_type": "code",
   "execution_count": 17,
   "metadata": {},
   "outputs": [
    {
     "name": "stdout",
     "output_type": "stream",
     "text": [
      "Training Done\n",
      "regparam: 0.001  w_item : 2.0 RMSE:  [1.9129356095205834]\n",
      "Training Done\n",
      "regparam: 0.01  w_item : 2.0 RMSE:  [1.9129356095205834, 1.3765306705713083]\n",
      "Training Done\n",
      "regparam: 0.1  w_item : 2.0 RMSE:  [1.9129356095205834, 1.3765306705713083, 1.2825211255323097]\n",
      "Training Done\n",
      "regparam: 1  w_item : 2.0 RMSE:  [1.9129356095205834, 1.3765306705713083, 1.2825211255323097, 1.5850989896082424]\n",
      "Training Done\n",
      "regparam: 10  w_item : 2.0 RMSE:  [1.9129356095205834, 1.3765306705713083, 1.2825211255323097, 1.5850989896082424, 2.3571178210944055]\n",
      "Training Done\n",
      "regparam: 0.001  w_item : 4.0 RMSE:  [1.9129356095205834, 1.3765306705713083, 1.2825211255323097, 1.5850989896082424, 2.3571178210944055, 1.8412382861649843]\n",
      "Training Done\n",
      "regparam: 0.01  w_item : 4.0 RMSE:  [1.9129356095205834, 1.3765306705713083, 1.2825211255323097, 1.5850989896082424, 2.3571178210944055, 1.8412382861649843, 1.4817918900934426]\n",
      "Training Done\n",
      "regparam: 0.1  w_item : 4.0 RMSE:  [1.9129356095205834, 1.3765306705713083, 1.2825211255323097, 1.5850989896082424, 2.3571178210944055, 1.8412382861649843, 1.4817918900934426, 1.3093969535408574]\n",
      "Training Done\n",
      "regparam: 1  w_item : 4.0 RMSE:  [1.9129356095205834, 1.3765306705713083, 1.2825211255323097, 1.5850989896082424, 2.3571178210944055, 1.8412382861649843, 1.4817918900934426, 1.3093969535408574, 1.5851002603107807]\n",
      "Training Done\n",
      "regparam: 10  w_item : 4.0 RMSE:  [1.9129356095205834, 1.3765306705713083, 1.2825211255323097, 1.5850989896082424, 2.3571178210944055, 1.8412382861649843, 1.4817918900934426, 1.3093969535408574, 1.5851002603107807, 2.3571178210944055]\n",
      "Training Done\n",
      "regparam: 0.001  w_item : 6.0 RMSE:  [1.9129356095205834, 1.3765306705713083, 1.2825211255323097, 1.5850989896082424, 2.3571178210944055, 1.8412382861649843, 1.4817918900934426, 1.3093969535408574, 1.5851002603107807, 2.3571178210944055, 1.9525325712437946]\n",
      "Training Done\n",
      "regparam: 0.01  w_item : 6.0 RMSE:  [1.9129356095205834, 1.3765306705713083, 1.2825211255323097, 1.5850989896082424, 2.3571178210944055, 1.8412382861649843, 1.4817918900934426, 1.3093969535408574, 1.5851002603107807, 2.3571178210944055, 1.9525325712437946, 1.5634515084371459]\n",
      "Training Done\n",
      "regparam: 0.1  w_item : 6.0 RMSE:  [1.9129356095205834, 1.3765306705713083, 1.2825211255323097, 1.5850989896082424, 2.3571178210944055, 1.8412382861649843, 1.4817918900934426, 1.3093969535408574, 1.5851002603107807, 2.3571178210944055, 1.9525325712437946, 1.5634515084371459, 1.323317411080327]\n",
      "Training Done\n",
      "regparam: 1  w_item : 6.0 RMSE:  [1.9129356095205834, 1.3765306705713083, 1.2825211255323097, 1.5850989896082424, 2.3571178210944055, 1.8412382861649843, 1.4817918900934426, 1.3093969535408574, 1.5851002603107807, 2.3571178210944055, 1.9525325712437946, 1.5634515084371459, 1.323317411080327, 1.5850993001213964]\n",
      "Training Done\n",
      "regparam: 10  w_item : 6.0 RMSE:  [1.9129356095205834, 1.3765306705713083, 1.2825211255323097, 1.5850989896082424, 2.3571178210944055, 1.8412382861649843, 1.4817918900934426, 1.3093969535408574, 1.5851002603107807, 2.3571178210944055, 1.9525325712437946, 1.5634515084371459, 1.323317411080327, 1.5850993001213964, 2.3571178210944055]\n",
      "Training Done\n",
      "regparam: 0.001  w_item : 8.0 RMSE:  [1.9129356095205834, 1.3765306705713083, 1.2825211255323097, 1.5850989896082424, 2.3571178210944055, 1.8412382861649843, 1.4817918900934426, 1.3093969535408574, 1.5851002603107807, 2.3571178210944055, 1.9525325712437946, 1.5634515084371459, 1.323317411080327, 1.5850993001213964, 2.3571178210944055, 2.0544959249565564]\n",
      "Training Done\n",
      "regparam: 0.01  w_item : 8.0 RMSE:  [1.9129356095205834, 1.3765306705713083, 1.2825211255323097, 1.5850989896082424, 2.3571178210944055, 1.8412382861649843, 1.4817918900934426, 1.3093969535408574, 1.5851002603107807, 2.3571178210944055, 1.9525325712437946, 1.5634515084371459, 1.323317411080327, 1.5850993001213964, 2.3571178210944055, 2.0544959249565564, 1.6199331286914826]\n",
      "Training Done\n",
      "regparam: 0.1  w_item : 8.0 RMSE:  [1.9129356095205834, 1.3765306705713083, 1.2825211255323097, 1.5850989896082424, 2.3571178210944055, 1.8412382861649843, 1.4817918900934426, 1.3093969535408574, 1.5851002603107807, 2.3571178210944055, 1.9525325712437946, 1.5634515084371459, 1.323317411080327, 1.5850993001213964, 2.3571178210944055, 2.0544959249565564, 1.6199331286914826, 1.3328235701137516]\n",
      "Training Done\n",
      "regparam: 1  w_item : 8.0 RMSE:  [1.9129356095205834, 1.3765306705713083, 1.2825211255323097, 1.5850989896082424, 2.3571178210944055, 1.8412382861649843, 1.4817918900934426, 1.3093969535408574, 1.5851002603107807, 2.3571178210944055, 1.9525325712437946, 1.5634515084371459, 1.323317411080327, 1.5850993001213964, 2.3571178210944055, 2.0544959249565564, 1.6199331286914826, 1.3328235701137516, 1.585101700135651]\n",
      "Training Done\n",
      "regparam: 10  w_item : 8.0 RMSE:  [1.9129356095205834, 1.3765306705713083, 1.2825211255323097, 1.5850989896082424, 2.3571178210944055, 1.8412382861649843, 1.4817918900934426, 1.3093969535408574, 1.5851002603107807, 2.3571178210944055, 1.9525325712437946, 1.5634515084371459, 1.323317411080327, 1.5850993001213964, 2.3571178210944055, 2.0544959249565564, 1.6199331286914826, 1.3328235701137516, 1.585101700135651, 2.3571178210944055]\n",
      "Training Done\n",
      "regparam: 0.001  w_item : 10.0 RMSE:  [1.9129356095205834, 1.3765306705713083, 1.2825211255323097, 1.5850989896082424, 2.3571178210944055, 1.8412382861649843, 1.4817918900934426, 1.3093969535408574, 1.5851002603107807, 2.3571178210944055, 1.9525325712437946, 1.5634515084371459, 1.323317411080327, 1.5850993001213964, 2.3571178210944055, 2.0544959249565564, 1.6199331286914826, 1.3328235701137516, 1.585101700135651, 2.3571178210944055, 2.1527111253272424]\n",
      "Training Done\n",
      "regparam: 0.01  w_item : 10.0 RMSE:  [1.9129356095205834, 1.3765306705713083, 1.2825211255323097, 1.5850989896082424, 2.3571178210944055, 1.8412382861649843, 1.4817918900934426, 1.3093969535408574, 1.5851002603107807, 2.3571178210944055, 1.9525325712437946, 1.5634515084371459, 1.323317411080327, 1.5850993001213964, 2.3571178210944055, 2.0544959249565564, 1.6199331286914826, 1.3328235701137516, 1.585101700135651, 2.3571178210944055, 2.1527111253272424, 1.6680559302746965]\n",
      "Training Done\n",
      "regparam: 0.1  w_item : 10.0 RMSE:  [1.9129356095205834, 1.3765306705713083, 1.2825211255323097, 1.5850989896082424, 2.3571178210944055, 1.8412382861649843, 1.4817918900934426, 1.3093969535408574, 1.5851002603107807, 2.3571178210944055, 1.9525325712437946, 1.5634515084371459, 1.323317411080327, 1.5850993001213964, 2.3571178210944055, 2.0544959249565564, 1.6199331286914826, 1.3328235701137516, 1.585101700135651, 2.3571178210944055, 2.1527111253272424, 1.6680559302746965, 1.3387558014259122]\n",
      "Training Done\n",
      "regparam: 1  w_item : 10.0 RMSE:  [1.9129356095205834, 1.3765306705713083, 1.2825211255323097, 1.5850989896082424, 2.3571178210944055, 1.8412382861649843, 1.4817918900934426, 1.3093969535408574, 1.5851002603107807, 2.3571178210944055, 1.9525325712437946, 1.5634515084371459, 1.323317411080327, 1.5850993001213964, 2.3571178210944055, 2.0544959249565564, 1.6199331286914826, 1.3328235701137516, 1.585101700135651, 2.3571178210944055, 2.1527111253272424, 1.6680559302746965, 1.3387558014259122, 1.585099825768883]\n",
      "Training Done\n",
      "regparam: 10  w_item : 10.0 RMSE:  [1.9129356095205834, 1.3765306705713083, 1.2825211255323097, 1.5850989896082424, 2.3571178210944055, 1.8412382861649843, 1.4817918900934426, 1.3093969535408574, 1.5851002603107807, 2.3571178210944055, 1.9525325712437946, 1.5634515084371459, 1.323317411080327, 1.5850993001213964, 2.3571178210944055, 2.0544959249565564, 1.6199331286914826, 1.3328235701137516, 1.585101700135651, 2.3571178210944055, 2.1527111253272424, 1.6680559302746965, 1.3387558014259122, 1.585099825768883, 2.3571178210944055]\n",
      "Best parameters using Grid Search CV [2.0, 0.1]\n"
     ]
    }
   ],
   "source": [
    "from pyspark.ml.evaluation import RegressionEvaluator\n",
    "mse = []\n",
    "combinations = []\n",
    "for i in w_item:\n",
    "    for p in regparam:  \n",
    "        new_als_algo = ALS(rank=i,maxIter=15,implicitPrefs=False,regParam=p,coldStartStrategy='drop',nonnegative=False,seed=42,**header)\n",
    "        model= new_als_algo.fit(train)\n",
    "        print(\"Training Done\")\n",
    "        combinations.append([i,p])\n",
    "        df_pred_test =  model.transform(test)\n",
    "        evaluator = RegressionEvaluator(metricName=\"rmse\", labelCol=\"Rating\",\n",
    "                                predictionCol=\"prediction\")\n",
    "        rmse = evaluator.evaluate(df_pred_test)\n",
    "        mse.append(rmse)\n",
    "        print(\"regparam:\", p , \" w_item :\", i ,\"RMSE: \", mse)\n",
    "print(\"Best parameters using Grid Search CV\",  combinations[mse.index(min(mse))])"
   ]
  },
  {
   "cell_type": "code",
   "execution_count": 30,
   "metadata": {},
   "outputs": [
    {
     "data": {
      "image/png": "[encoded data removed]",
      "text/plain": [
       "<Figure size 720x576 with 1 Axes>"
      ]
     },
     "metadata": {
      "needs_background": "light"
     },
     "output_type": "display_data"
    }
   ],
   "source": [
    "def plot_grid_search(cv_results, grid_param_1, grid_param_2, name_param_1, name_param_2):\n",
    "    # Get Test Scores Mean and std for each grid search\n",
    "    scores_mean = cv_results\n",
    "    scores_mean = np.array(scores_mean).reshape(len(grid_param_2),len(grid_param_1))\n",
    "    \n",
    "    plt.figure(figsize=(10,8))\n",
    "    # Plot Grid search scores\n",
    "   # _, ax = plt.subplots(1,1)\n",
    "\n",
    "    # Param1 is the X-axis, Param 2 is represented as a different curve (color line)\n",
    "    for idx, val in enumerate(grid_param_2):\n",
    "        plt.plot(grid_param_1, scores_mean[idx,:], '-o', label= name_param_2 + ': ' + str(val))\n",
    "     \n",
    "    plt.title(\"Grid Search Scores\", fontsize=20, fontweight='bold')\n",
    "    plt.xlabel(name_param_1, fontsize=16)\n",
    "    plt.ylabel('MSE', fontsize=16)\n",
    "    plt.legend(loc=\"best\", fontsize=15)\n",
    "    plt.grid('on')\n",
    "\n",
    "# Calling Method \n",
    "plot_grid_search(mse, regparam, w_item, 'Regularization Parameter', 'latent Factors')\n"
   ]
  },
  {
   "cell_type": "code",
   "execution_count": 31,
   "metadata": {},
   "outputs": [
    {
     "name": "stdout",
     "output_type": "stream",
     "text": [
      "Best parameters using Grid Search CV [2.0, 0.1] 1.2825211255323097\n"
     ]
    }
   ],
   "source": [
    "print(\"Best parameters using Grid Search CV\",  combinations[mse.index(min(mse))], min(mse))"
   ]
  },
  {
   "cell_type": "code",
   "execution_count": 32,
   "metadata": {},
   "outputs": [],
   "source": [
    "header = {\n",
    "    \"userCol\": COL_USER,\n",
    "    \"itemCol\": COL_ITEM,\n",
    "    \"ratingCol\": COL_RATING,\n",
    "}\n",
    "\n",
    "\n",
    "als = ALS(\n",
    "    rank=2,\n",
    "    maxIter=15,\n",
    "    implicitPrefs=False,\n",
    "    regParam=0.1,\n",
    "    \n",
    "    coldStartStrategy='drop',\n",
    "    nonnegative=False,\n",
    "    seed=42,\n",
    "    **header\n",
    ")"
   ]
  },
  {
   "cell_type": "code",
   "execution_count": 33,
   "metadata": {},
   "outputs": [],
   "source": [
    "model = als.fit(train)"
   ]
  },
  {
   "cell_type": "code",
   "execution_count": 34,
   "metadata": {},
   "outputs": [],
   "source": [
    "df_pred_test =  model.transform(test)"
   ]
  },
  {
   "cell_type": "code",
   "execution_count": 35,
   "metadata": {},
   "outputs": [
    {
     "name": "stdout",
     "output_type": "stream",
     "text": [
      "+------+---------+------+----------+\n",
      "|UserId|ProductId|Rating|prediction|\n",
      "+------+---------+------+----------+\n",
      "|   471|     8638|   2.0| 1.3484831|\n",
      "|  1238|     8638|   1.0| 1.9554391|\n",
      "|  2999|    14450|   2.0| 1.3217186|\n",
      "|  2999|    46266|   1.0| 2.3774297|\n",
      "|  3475|    28836|   1.0|  2.164081|\n",
      "|  3475|    29894|   1.0| 1.1991086|\n",
      "|  1139|    44596|   1.0| 1.3471663|\n",
      "|  2748|    17679|   1.0| 1.7038741|\n",
      "|  2249|     9427|   1.0| 0.2503165|\n",
      "|  4383|    29814|   1.0| 1.1621917|\n",
      "|  4357|    31912|   1.0| 1.3476986|\n",
      "|  1787|    29894|   1.0|0.99046844|\n",
      "|  3242|    44596|   2.0| 1.5246205|\n",
      "|  2396|    34234|   3.0| 2.4457977|\n",
      "|   375|    31912|   5.0|  2.243393|\n",
      "|  3844|    31912|   1.0| 1.1632549|\n",
      "|   796|    28170|   1.0|  5.144572|\n",
      "|  4321|    31912|   5.0| 1.8940439|\n",
      "|  2771|    14450|   1.0| 0.9188187|\n",
      "|  1869|    29894|   1.0|0.67721546|\n",
      "+------+---------+------+----------+\n",
      "only showing top 20 rows\n",
      "\n"
     ]
    }
   ],
   "source": [
    "df_pred_test.show()"
   ]
  },
  {
   "cell_type": "code",
   "execution_count": 36,
   "metadata": {},
   "outputs": [
    {
     "name": "stdout",
     "output_type": "stream",
     "text": [
      "Root-mean-square error = 1.2825211255323097\n"
     ]
    }
   ],
   "source": [
    "from pyspark.ml.evaluation import RegressionEvaluator\n",
    "evaluator = RegressionEvaluator(metricName=\"rmse\", labelCol=\"Rating\",\n",
    "                                predictionCol=\"prediction\")\n",
    "rmse = evaluator.evaluate(df_pred_test)\n",
    "print(\"Root-mean-square error = \" + str(rmse))"
   ]
  },
  {
   "cell_type": "code",
   "execution_count": null,
   "metadata": {},
   "outputs": [],
   "source": []
  }
 ],
 "metadata": {
  "kernelspec": {
   "display_name": "Python 3",
   "language": "python",
   "name": "python3"
  },
  "language_info": {
   "codemirror_mode": {
    "name": "ipython",
    "version": 3
   },
   "file_extension": ".py",
   "mimetype": "text/x-python",
   "name": "python",
   "nbconvert_exporter": "python",
   "pygments_lexer": "ipython3",
   "version": "3.8.5"
  }
 },
 "nbformat": 4,
 "nbformat_minor": 4
}
